{
 "cells": [
  {
   "cell_type": "markdown",
   "metadata": {},
   "source": [
    "## Prediction Model for the given variables"
   ]
  },
  {
   "cell_type": "markdown",
   "metadata": {},
   "source": [
    "### Import the requisite modules"
   ]
  },
  {
   "cell_type": "code",
   "execution_count": 2,
   "metadata": {},
   "outputs": [],
   "source": [
    "import numpy as np\n",
    "import pandas as pd\n",
    "import matplotlib.pyplot as plt\n",
    "from sklearn.model_selection import train_test_split\n",
    "import lightgbm as lgb\n",
    "import time"
   ]
  },
  {
   "cell_type": "markdown",
   "metadata": {},
   "source": [
    "#### Set the variable on which we need to perform predictions here\n",
    "\n",
    "Transactions was chosen as the default target variable for the model"
   ]
  },
  {
   "cell_type": "code",
   "execution_count": 10,
   "metadata": {},
   "outputs": [],
   "source": [
    "VAR = 'Trans'"
   ]
  },
  {
   "cell_type": "markdown",
   "metadata": {},
   "source": [
    "### Feature Engineering"
   ]
  },
  {
   "cell_type": "markdown",
   "metadata": {},
   "source": [
    "Load the given data into a Pandas dataframe"
   ]
  },
  {
   "cell_type": "code",
   "execution_count": 3,
   "metadata": {},
   "outputs": [],
   "source": [
    "df_orig = pd.read_csv('topline_metrics.csv')\n",
    "del df_orig['Date.1']"
   ]
  },
  {
   "cell_type": "code",
   "execution_count": 3,
   "metadata": {},
   "outputs": [
    {
     "data": {
      "text/html": [
       "<div>\n",
       "<style scoped>\n",
       "    .dataframe tbody tr th:only-of-type {\n",
       "        vertical-align: middle;\n",
       "    }\n",
       "\n",
       "    .dataframe tbody tr th {\n",
       "        vertical-align: top;\n",
       "    }\n",
       "\n",
       "    .dataframe thead th {\n",
       "        text-align: right;\n",
       "    }\n",
       "</style>\n",
       "<table border=\"1\" class=\"dataframe\">\n",
       "  <thead>\n",
       "    <tr style=\"text-align: right;\">\n",
       "      <th></th>\n",
       "      <th>Date</th>\n",
       "      <th>Platform</th>\n",
       "      <th>Country</th>\n",
       "      <th>TRU</th>\n",
       "      <th>DAU</th>\n",
       "      <th>Items</th>\n",
       "      <th>Trans</th>\n",
       "      <th>Items Per Trans</th>\n",
       "      <th>Items per DAU</th>\n",
       "      <th>Conversion</th>\n",
       "      <th>Cash Flow</th>\n",
       "      <th>Return Customer</th>\n",
       "      <th>Time Spend Per Day(seconds)</th>\n",
       "    </tr>\n",
       "  </thead>\n",
       "  <tbody>\n",
       "    <tr>\n",
       "      <th>0</th>\n",
       "      <td>2018-03-15</td>\n",
       "      <td>Android(All)</td>\n",
       "      <td>Kazakhstan(哈萨克斯坦)</td>\n",
       "      <td>628852.81</td>\n",
       "      <td>15498.31</td>\n",
       "      <td>43429.11</td>\n",
       "      <td>3428.09</td>\n",
       "      <td>17.58</td>\n",
       "      <td>1.3</td>\n",
       "      <td>2.3</td>\n",
       "      <td>4527.01</td>\n",
       "      <td>79.12</td>\n",
       "      <td>58.18</td>\n",
       "    </tr>\n",
       "    <tr>\n",
       "      <th>1</th>\n",
       "      <td>2018-03-15</td>\n",
       "      <td>ALL</td>\n",
       "      <td>United States(美国)</td>\n",
       "      <td>633293.54</td>\n",
       "      <td>19939.05</td>\n",
       "      <td>43429.11</td>\n",
       "      <td>3428.09</td>\n",
       "      <td>17.58</td>\n",
       "      <td>1.3</td>\n",
       "      <td>2.3</td>\n",
       "      <td>4527.01</td>\n",
       "      <td>75.65</td>\n",
       "      <td>58.87</td>\n",
       "    </tr>\n",
       "    <tr>\n",
       "      <th>2</th>\n",
       "      <td>2018-03-15</td>\n",
       "      <td>Android(All)</td>\n",
       "      <td>Kazakhstan(哈萨克斯坦)</td>\n",
       "      <td>628852.81</td>\n",
       "      <td>15498.31</td>\n",
       "      <td>43429.11</td>\n",
       "      <td>3428.09</td>\n",
       "      <td>17.58</td>\n",
       "      <td>1.3</td>\n",
       "      <td>2.3</td>\n",
       "      <td>4527.01</td>\n",
       "      <td>79.12</td>\n",
       "      <td>58.18</td>\n",
       "    </tr>\n",
       "    <tr>\n",
       "      <th>3</th>\n",
       "      <td>2018-03-15</td>\n",
       "      <td>ALL</td>\n",
       "      <td>Guatemala(危地马拉)</td>\n",
       "      <td>628976.03</td>\n",
       "      <td>15621.54</td>\n",
       "      <td>43429.11</td>\n",
       "      <td>3428.09</td>\n",
       "      <td>17.58</td>\n",
       "      <td>1.3</td>\n",
       "      <td>2.3</td>\n",
       "      <td>4527.01</td>\n",
       "      <td>74.62</td>\n",
       "      <td>46.21</td>\n",
       "    </tr>\n",
       "    <tr>\n",
       "      <th>4</th>\n",
       "      <td>2018-03-15</td>\n",
       "      <td>Android(All)</td>\n",
       "      <td>Belarus(白俄罗斯)</td>\n",
       "      <td>629154.54</td>\n",
       "      <td>15800.04</td>\n",
       "      <td>43429.11</td>\n",
       "      <td>3428.09</td>\n",
       "      <td>17.58</td>\n",
       "      <td>1.3</td>\n",
       "      <td>2.3</td>\n",
       "      <td>4527.01</td>\n",
       "      <td>76.97</td>\n",
       "      <td>56.92</td>\n",
       "    </tr>\n",
       "  </tbody>\n",
       "</table>\n",
       "</div>"
      ],
      "text/plain": [
       "         Date      Platform            Country        TRU       DAU     Items  \\\n",
       "0  2018-03-15  Android(All)  Kazakhstan(哈萨克斯坦)  628852.81  15498.31  43429.11   \n",
       "1  2018-03-15           ALL  United States(美国)  633293.54  19939.05  43429.11   \n",
       "2  2018-03-15  Android(All)  Kazakhstan(哈萨克斯坦)  628852.81  15498.31  43429.11   \n",
       "3  2018-03-15           ALL    Guatemala(危地马拉)  628976.03  15621.54  43429.11   \n",
       "4  2018-03-15  Android(All)      Belarus(白俄罗斯)  629154.54  15800.04  43429.11   \n",
       "\n",
       "     Trans  Items Per Trans  Items per DAU  Conversion  Cash Flow  \\\n",
       "0  3428.09            17.58            1.3         2.3    4527.01   \n",
       "1  3428.09            17.58            1.3         2.3    4527.01   \n",
       "2  3428.09            17.58            1.3         2.3    4527.01   \n",
       "3  3428.09            17.58            1.3         2.3    4527.01   \n",
       "4  3428.09            17.58            1.3         2.3    4527.01   \n",
       "\n",
       "   Return Customer  Time Spend Per Day(seconds)  \n",
       "0            79.12                        58.18  \n",
       "1            75.65                        58.87  \n",
       "2            79.12                        58.18  \n",
       "3            74.62                        46.21  \n",
       "4            76.97                        56.92  "
      ]
     },
     "execution_count": 3,
     "metadata": {},
     "output_type": "execute_result"
    }
   ],
   "source": [
    "df_orig.head()"
   ]
  },
  {
   "cell_type": "markdown",
   "metadata": {},
   "source": [
    "Create a Copy of the Dataframe for making predictions. Also the data contains numerous entries for the same country, Date, and Platform i.e. duplicates, which are also removed in this step"
   ]
  },
  {
   "cell_type": "code",
   "execution_count": 4,
   "metadata": {},
   "outputs": [],
   "source": [
    "df = df_orig.copy()\n",
    "df.drop_duplicates(subset = [\"Date\",'Platform','Country'],keep=False, inplace = True)"
   ]
  },
  {
   "cell_type": "markdown",
   "metadata": {},
   "source": [
    "The Country codes need to be ASCI compatible, for input to our models. Hence the Country names are trimmed/renamed so that they contain only English characters"
   ]
  },
  {
   "cell_type": "code",
   "execution_count": 5,
   "metadata": {},
   "outputs": [],
   "source": [
    "chinese_map = {}\n",
    "global_cnt = 0"
   ]
  },
  {
   "cell_type": "code",
   "execution_count": 6,
   "metadata": {},
   "outputs": [],
   "source": [
    "def trim(s):\n",
    "    idx = s.find('(')\n",
    "    if(idx >= 0):\n",
    "        ns = s[0:idx]\n",
    "        ns = ns.strip()\n",
    "        if(ns == 'Côte dIvoire'):\n",
    "            return 'Cote dIvoire'\n",
    "        return ns\n",
    "    else:\n",
    "        if(s in chinese_map.keys()):\n",
    "            return chinese_map[s]\n",
    "        else:\n",
    "            ns = 'chinese_name_'+str(trim.counter)\n",
    "            chinese_map[s] = ns\n",
    "            trim.counter += 1\n",
    "            return ns\n",
    "trim.counter = 0"
   ]
  },
  {
   "cell_type": "markdown",
   "metadata": {},
   "source": [
    "Creating other useful features from the given date information. Also it was observed that the Time spent field had negative entries, which doesnt make sense. Hence, these negative entries were made zero, to ensure consistency."
   ]
  },
  {
   "cell_type": "code",
   "execution_count": 7,
   "metadata": {},
   "outputs": [],
   "source": [
    "df['Country'] = df['Country'].apply(lambda x: trim(x))\n",
    "df['Date'] =  pd.to_datetime(df['Date'])\n",
    "df['dayofmonth'] = df.Date.dt.day\n",
    "df['dayofyear'] = df.Date.dt.dayofyear\n",
    "df['dayofweek'] = df.Date.dt.dayofweek\n",
    "df['month'] = df.Date.dt.month\n",
    "df['year'] = df.Date.dt.year\n",
    "df['weekofyear'] = df.Date.dt.weekofyear\n",
    "df['is_month_start'] = (df.Date.dt.is_month_start).astype(int)\n",
    "df['is_month_end'] = (df.Date.dt.is_month_end).astype(int)\n",
    "df['weekend'] = ((df.Date.dt.dayofweek) // 5 == 1).astype(int)\n",
    "df.loc[df['Time Spend Per Day(seconds)'] < 0,'Time Spend Per Day(seconds)'] = 0"
   ]
  },
  {
   "cell_type": "code",
   "execution_count": 8,
   "metadata": {},
   "outputs": [
    {
     "data": {
      "text/html": [
       "<div>\n",
       "<style scoped>\n",
       "    .dataframe tbody tr th:only-of-type {\n",
       "        vertical-align: middle;\n",
       "    }\n",
       "\n",
       "    .dataframe tbody tr th {\n",
       "        vertical-align: top;\n",
       "    }\n",
       "\n",
       "    .dataframe thead th {\n",
       "        text-align: right;\n",
       "    }\n",
       "</style>\n",
       "<table border=\"1\" class=\"dataframe\">\n",
       "  <thead>\n",
       "    <tr style=\"text-align: right;\">\n",
       "      <th></th>\n",
       "      <th>Date</th>\n",
       "      <th>Platform</th>\n",
       "      <th>Country</th>\n",
       "      <th>TRU</th>\n",
       "      <th>DAU</th>\n",
       "      <th>Items</th>\n",
       "      <th>Trans</th>\n",
       "      <th>Items Per Trans</th>\n",
       "      <th>Items per DAU</th>\n",
       "      <th>Conversion</th>\n",
       "      <th>...</th>\n",
       "      <th>Time Spend Per Day(seconds)</th>\n",
       "      <th>dayofmonth</th>\n",
       "      <th>dayofyear</th>\n",
       "      <th>dayofweek</th>\n",
       "      <th>month</th>\n",
       "      <th>year</th>\n",
       "      <th>weekofyear</th>\n",
       "      <th>is_month_start</th>\n",
       "      <th>is_month_end</th>\n",
       "      <th>weekend</th>\n",
       "    </tr>\n",
       "  </thead>\n",
       "  <tbody>\n",
       "    <tr>\n",
       "      <th>5</th>\n",
       "      <td>2018-03-15</td>\n",
       "      <td>Android(All)</td>\n",
       "      <td>Ghana</td>\n",
       "      <td>628648.96</td>\n",
       "      <td>15294.47</td>\n",
       "      <td>43429.11</td>\n",
       "      <td>3428.09</td>\n",
       "      <td>17.58</td>\n",
       "      <td>1.3</td>\n",
       "      <td>2.3</td>\n",
       "      <td>...</td>\n",
       "      <td>101.95</td>\n",
       "      <td>15</td>\n",
       "      <td>74</td>\n",
       "      <td>3</td>\n",
       "      <td>3</td>\n",
       "      <td>2018</td>\n",
       "      <td>11</td>\n",
       "      <td>0</td>\n",
       "      <td>0</td>\n",
       "      <td>0</td>\n",
       "    </tr>\n",
       "    <tr>\n",
       "      <th>19</th>\n",
       "      <td>2018-03-15</td>\n",
       "      <td>ALL</td>\n",
       "      <td>Moldova</td>\n",
       "      <td>628748.01</td>\n",
       "      <td>15393.51</td>\n",
       "      <td>43429.11</td>\n",
       "      <td>3428.09</td>\n",
       "      <td>17.58</td>\n",
       "      <td>1.3</td>\n",
       "      <td>2.3</td>\n",
       "      <td>...</td>\n",
       "      <td>62.79</td>\n",
       "      <td>15</td>\n",
       "      <td>74</td>\n",
       "      <td>3</td>\n",
       "      <td>3</td>\n",
       "      <td>2018</td>\n",
       "      <td>11</td>\n",
       "      <td>0</td>\n",
       "      <td>0</td>\n",
       "      <td>0</td>\n",
       "    </tr>\n",
       "    <tr>\n",
       "      <th>20</th>\n",
       "      <td>2018-03-15</td>\n",
       "      <td>ALL</td>\n",
       "      <td>Costa Rica</td>\n",
       "      <td>629171.81</td>\n",
       "      <td>15817.32</td>\n",
       "      <td>43429.11</td>\n",
       "      <td>3428.09</td>\n",
       "      <td>17.58</td>\n",
       "      <td>1.3</td>\n",
       "      <td>2.3</td>\n",
       "      <td>...</td>\n",
       "      <td>48.16</td>\n",
       "      <td>15</td>\n",
       "      <td>74</td>\n",
       "      <td>3</td>\n",
       "      <td>3</td>\n",
       "      <td>2018</td>\n",
       "      <td>11</td>\n",
       "      <td>0</td>\n",
       "      <td>0</td>\n",
       "      <td>0</td>\n",
       "    </tr>\n",
       "    <tr>\n",
       "      <th>21</th>\n",
       "      <td>2018-03-15</td>\n",
       "      <td>ALL</td>\n",
       "      <td>Algeria</td>\n",
       "      <td>628847.05</td>\n",
       "      <td>15492.55</td>\n",
       "      <td>43429.11</td>\n",
       "      <td>3428.09</td>\n",
       "      <td>17.58</td>\n",
       "      <td>1.3</td>\n",
       "      <td>2.3</td>\n",
       "      <td>...</td>\n",
       "      <td>50.81</td>\n",
       "      <td>15</td>\n",
       "      <td>74</td>\n",
       "      <td>3</td>\n",
       "      <td>3</td>\n",
       "      <td>2018</td>\n",
       "      <td>11</td>\n",
       "      <td>0</td>\n",
       "      <td>0</td>\n",
       "      <td>0</td>\n",
       "    </tr>\n",
       "    <tr>\n",
       "      <th>28</th>\n",
       "      <td>2018-03-15</td>\n",
       "      <td>Android(All)</td>\n",
       "      <td>Australia</td>\n",
       "      <td>628712.31</td>\n",
       "      <td>15357.81</td>\n",
       "      <td>43429.11</td>\n",
       "      <td>3428.09</td>\n",
       "      <td>17.58</td>\n",
       "      <td>1.3</td>\n",
       "      <td>2.3</td>\n",
       "      <td>...</td>\n",
       "      <td>36.88</td>\n",
       "      <td>15</td>\n",
       "      <td>74</td>\n",
       "      <td>3</td>\n",
       "      <td>3</td>\n",
       "      <td>2018</td>\n",
       "      <td>11</td>\n",
       "      <td>0</td>\n",
       "      <td>0</td>\n",
       "      <td>0</td>\n",
       "    </tr>\n",
       "  </tbody>\n",
       "</table>\n",
       "<p>5 rows × 22 columns</p>\n",
       "</div>"
      ],
      "text/plain": [
       "         Date      Platform     Country        TRU       DAU     Items  \\\n",
       "5  2018-03-15  Android(All)       Ghana  628648.96  15294.47  43429.11   \n",
       "19 2018-03-15           ALL     Moldova  628748.01  15393.51  43429.11   \n",
       "20 2018-03-15           ALL  Costa Rica  629171.81  15817.32  43429.11   \n",
       "21 2018-03-15           ALL     Algeria  628847.05  15492.55  43429.11   \n",
       "28 2018-03-15  Android(All)   Australia  628712.31  15357.81  43429.11   \n",
       "\n",
       "      Trans  Items Per Trans  Items per DAU  Conversion   ...     \\\n",
       "5   3428.09            17.58            1.3         2.3   ...      \n",
       "19  3428.09            17.58            1.3         2.3   ...      \n",
       "20  3428.09            17.58            1.3         2.3   ...      \n",
       "21  3428.09            17.58            1.3         2.3   ...      \n",
       "28  3428.09            17.58            1.3         2.3   ...      \n",
       "\n",
       "    Time Spend Per Day(seconds)  dayofmonth  dayofyear  dayofweek  month  \\\n",
       "5                        101.95          15         74          3      3   \n",
       "19                        62.79          15         74          3      3   \n",
       "20                        48.16          15         74          3      3   \n",
       "21                        50.81          15         74          3      3   \n",
       "28                        36.88          15         74          3      3   \n",
       "\n",
       "    year  weekofyear  is_month_start  is_month_end  weekend  \n",
       "5   2018          11               0             0        0  \n",
       "19  2018          11               0             0        0  \n",
       "20  2018          11               0             0        0  \n",
       "21  2018          11               0             0        0  \n",
       "28  2018          11               0             0        0  \n",
       "\n",
       "[5 rows x 22 columns]"
      ]
     },
     "execution_count": 8,
     "metadata": {},
     "output_type": "execute_result"
    }
   ],
   "source": [
    "df.head()"
   ]
  },
  {
   "cell_type": "markdown",
   "metadata": {},
   "source": [
    "Sorting values, in order of Country, Platform, and Date"
   ]
  },
  {
   "cell_type": "code",
   "execution_count": 9,
   "metadata": {},
   "outputs": [],
   "source": [
    "df.sort_values(by=['Country','Platform','Date'], axis=0, inplace=True)\n",
    "df.reset_index(drop=True,inplace=True)"
   ]
  },
  {
   "cell_type": "markdown",
   "metadata": {},
   "source": [
    "Converting the prediction variable to log scale to address variance and scale issues"
   ]
  },
  {
   "cell_type": "code",
   "execution_count": 11,
   "metadata": {},
   "outputs": [],
   "source": [
    "PREDICT_VAR = VAR + '_log'\n",
    "df[PREDICT_VAR] = np.log1p(df[VAR].values)"
   ]
  },
  {
   "cell_type": "markdown",
   "metadata": {},
   "source": [
    "Plotting the Prediction variable in log scale vs Days to get a sense of the data. In the below example, we are just looking at USA for 'ALL' platforms."
   ]
  },
  {
   "cell_type": "code",
   "execution_count": 18,
   "metadata": {
    "scrolled": true
   },
   "outputs": [
    {
     "data": {
      "image/png": "[encoded data removed]",
      "text/plain": [
       "<Figure size 432x288 with 1 Axes>"
      ]
     },
     "metadata": {
      "needs_background": "light"
     },
     "output_type": "display_data"
    }
   ],
   "source": [
    "temp_log = df[(df['Country'] == 'United States') & (df['Platform'] == 'ALL')][PREDICT_VAR]\n",
    "plt.plot(temp_log)\n",
    "plt.xlabel('Days')\n",
    "plt.ylabel('Trans (log)')\n",
    "plt.show()"
   ]
  },
  {
   "cell_type": "markdown",
   "metadata": {},
   "source": [
    "### Creating a Model for the prediction variable"
   ]
  },
  {
   "cell_type": "markdown",
   "metadata": {},
   "source": [
    "Creating a copy of the dataframe for modelling"
   ]
  },
  {
   "cell_type": "code",
   "execution_count": 21,
   "metadata": {},
   "outputs": [],
   "source": [
    "df_new = df.copy()"
   ]
  },
  {
   "cell_type": "code",
   "execution_count": 22,
   "metadata": {},
   "outputs": [],
   "source": [
    "def create_agg_monthwise_features(df, gpby_cols, target_col, agg_funcs):\n",
    "    \n",
    "    gpby = df.groupby(gpby_cols)\n",
    "    newdf = df[gpby_cols].drop_duplicates().reset_index(drop=True)\n",
    "    for agg_name, agg_func in agg_funcs.items():\n",
    "        aggdf = gpby[target_col].agg(agg_func).reset_index()\n",
    "        aggdf.rename(columns={target_col:target_col+'_'+agg_name}, inplace=True)\n",
    "        newdf = newdf.merge(aggdf, on=gpby_cols, how='left')\n",
    "    return newdf"
   ]
  },
  {
   "cell_type": "markdown",
   "metadata": {},
   "source": [
    "The future value of a time series variable, depends on its past. Hence we construct new features that reflect this hypothesis.\n",
    "\n",
    "#### 1) Lag features: \n",
    "\n",
    "Take features, that lag the prediction variable, by a specified lag amount\n",
    "\n",
    "#### 2) Rolling Mean features: \n",
    "\n",
    "Take a rolling average on the prediction variable, over a specified window length. Rolling mean, smooths out our variable, but causes the prection variable to lag behind, on account of average over its predecessors. These features assume that instead of depending on its history, the current value of the prediction variable, depends only on the previous values in the window.\n",
    "\n",
    "#### 3) Rolling Median features: \n",
    "\n",
    "Similar to Rolling Mean, but the calculate the median to ensure robustness to outliers.\n",
    "\n",
    "#### 4) Exponentially Weighted features: \n",
    "\n",
    "Similar to Rolling Mean, with a few essential modifications. The values in the window were given equal weight in calculating rolling mean features. But here, their weights are exponentially decaying, with the most recent variables in the window, given higher weight that the distant variables in the window. Also, using exponential weighting ameliorates the issue with lag, which is prominent when we use rolling mean."
   ]
  },
  {
   "cell_type": "code",
   "execution_count": 23,
   "metadata": {},
   "outputs": [],
   "source": [
    "# Creating lag features\n",
    "def create_lag_features(df, gpby_cols, target_col, lags):\n",
    "    gpby = df.groupby(gpby_cols)\n",
    "    for i in lags:\n",
    "        df['_'.join([target_col, 'lag', str(i)])] = \\\n",
    "                gpby[target_col].shift(i).values + np.random.normal(scale=1.6, size=(len(df),))\n",
    "    return df\n",
    "\n",
    "# Creating rolling mean features\n",
    "def create_rmean_features(df, gpby_cols, target_col, windows, min_periods=2, \n",
    "                             shift=1, win_type=None):\n",
    "    gpby = df.groupby(gpby_cols)\n",
    "    for w in windows:\n",
    "        df['_'.join([target_col, 'rmean', str(w)])] = \\\n",
    "            gpby[target_col].shift(shift).rolling(window=w, \n",
    "                                                  min_periods=min_periods,\n",
    "                                                  win_type=win_type).mean().values +\\\n",
    "            np.random.normal(scale=1.6, size=(len(df),))\n",
    "    return df\n",
    "\n",
    "# Creating rolling median features\n",
    "def create_rmed_features(df, gpby_cols, target_col, windows, min_periods=2, \n",
    "                            shift=1, win_type=None):\n",
    "    gpby = df.groupby(gpby_cols)\n",
    "    for w in windows:\n",
    "        df['_'.join([target_col, 'rmed', str(w)])] = \\\n",
    "            gpby[target_col].shift(shift).rolling(window=w, \n",
    "                                                  min_periods=min_periods,\n",
    "                                                  win_type=win_type).median().values +\\\n",
    "            np.random.normal(scale=1.6, size=(len(df),))\n",
    "    return df\n",
    "\n",
    "# Creating exponentially weighted mean features\n",
    "def create_ewm_features(df, gpby_cols, target_col, alpha=[0.9], shift=[1]):\n",
    "    gpby = df.groupby(gpby_cols)\n",
    "    for a in alpha:\n",
    "        for s in shift:\n",
    "            df['_'.join([target_col, 'lag', str(s), 'ewm', str(a)])] = \\\n",
    "                gpby[target_col].shift(s).ewm(alpha=a).mean().values\n",
    "    return df"
   ]
  },
  {
   "cell_type": "markdown",
   "metadata": {},
   "source": [
    "Convert the Categorical variables in our dataframe, such as Country, Platform, and Date Features ( weekend, month, year etc.). This is a prerequisite for modelling, when we have categorical variables in our data."
   ]
  },
  {
   "cell_type": "code",
   "execution_count": 24,
   "metadata": {},
   "outputs": [],
   "source": [
    "def one_hot_encoder(df, ohe_cols=['Country','Platform','dayofmonth','dayofweek','month','weekofyear']):\n",
    "    \n",
    "    df = pd.get_dummies(df, columns=ohe_cols)\n",
    "    print('Final df shape:{}'.format(df.shape))\n",
    "    return df"
   ]
  },
  {
   "cell_type": "markdown",
   "metadata": {},
   "source": [
    "We need to carefully chose lags and window lengths, while handcrafting features. For lag, we have chose variables that are spaced by a distance of seven, in order to take into consideration, weekly seasonality, if any. Also, lags of 364 and 728, were chosen to reflect yearly seasonality, if any. 69 was chosen as the start, since our test data, is split so that it contains the dates in the year 2020 (which are 69 in number)."
   ]
  },
  {
   "cell_type": "code",
   "execution_count": 27,
   "metadata": {},
   "outputs": [
    {
     "name": "stdout",
     "output_type": "stream",
     "text": [
      "Final df shape:(166542, 371)\n"
     ]
    }
   ],
   "source": [
    "df_new = create_lag_features(df_new, gpby_cols=['Country','Platform'], target_col=PREDICT_VAR, \n",
    "                               lags=[69,76,83,91,98,105,112,119,126,182,364,546,728])\n",
    "\n",
    "df_new = create_rmean_features(df_new, gpby_cols=['Country','Platform'], \n",
    "                                 target_col=PREDICT_VAR, windows=[364,546], \n",
    "                                 min_periods=10, win_type='triang')\n",
    "\n",
    "df_new = create_ewm_features(df_new, gpby_cols=['Country','Platform'], \n",
    "                               target_col=PREDICT_VAR, \n",
    "                               alpha=[0.95, 0.9, 0.8, 0.7, 0.6, 0.5], \n",
    "                               shift=[69,76,83,91,98,105,112,119,126,182,364,546,728])\n",
    "\n",
    "df_new = one_hot_encoder(df_new, ohe_cols=['Country','Platform','dayofweek','month'])"
   ]
  },
  {
   "cell_type": "markdown",
   "metadata": {},
   "source": [
    "Split the data into train and validation, for the purpose of testing the performance of our model. The val data contains entries that correspond to dates in the year 2020."
   ]
  },
  {
   "cell_type": "code",
   "execution_count": 28,
   "metadata": {},
   "outputs": [],
   "source": [
    "train = df_new[df_new['year'] < 2020]\n",
    "train.reset_index(drop = True, inplace = True)\n",
    "Y_train = train[PREDICT_VAR].values.reshape((-1))"
   ]
  },
  {
   "cell_type": "code",
   "execution_count": 29,
   "metadata": {},
   "outputs": [
    {
     "data": {
      "text/html": [
       "<div>\n",
       "<style scoped>\n",
       "    .dataframe tbody tr th:only-of-type {\n",
       "        vertical-align: middle;\n",
       "    }\n",
       "\n",
       "    .dataframe tbody tr th {\n",
       "        vertical-align: top;\n",
       "    }\n",
       "\n",
       "    .dataframe thead th {\n",
       "        text-align: right;\n",
       "    }\n",
       "</style>\n",
       "<table border=\"1\" class=\"dataframe\">\n",
       "  <thead>\n",
       "    <tr style=\"text-align: right;\">\n",
       "      <th></th>\n",
       "      <th>Date</th>\n",
       "      <th>TRU</th>\n",
       "      <th>DAU</th>\n",
       "      <th>Items</th>\n",
       "      <th>Trans</th>\n",
       "      <th>Items Per Trans</th>\n",
       "      <th>Items per DAU</th>\n",
       "      <th>Conversion</th>\n",
       "      <th>Cash Flow</th>\n",
       "      <th>Return Customer</th>\n",
       "      <th>...</th>\n",
       "      <th>month_3</th>\n",
       "      <th>month_4</th>\n",
       "      <th>month_5</th>\n",
       "      <th>month_6</th>\n",
       "      <th>month_7</th>\n",
       "      <th>month_8</th>\n",
       "      <th>month_9</th>\n",
       "      <th>month_10</th>\n",
       "      <th>month_11</th>\n",
       "      <th>month_12</th>\n",
       "    </tr>\n",
       "  </thead>\n",
       "  <tbody>\n",
       "    <tr>\n",
       "      <th>0</th>\n",
       "      <td>2018-03-17</td>\n",
       "      <td>628666.24</td>\n",
       "      <td>15301.38</td>\n",
       "      <td>43429.11</td>\n",
       "      <td>3428.09</td>\n",
       "      <td>17.58</td>\n",
       "      <td>1.3</td>\n",
       "      <td>2.3</td>\n",
       "      <td>4527.01</td>\n",
       "      <td>41.00</td>\n",
       "      <td>...</td>\n",
       "      <td>1</td>\n",
       "      <td>0</td>\n",
       "      <td>0</td>\n",
       "      <td>0</td>\n",
       "      <td>0</td>\n",
       "      <td>0</td>\n",
       "      <td>0</td>\n",
       "      <td>0</td>\n",
       "      <td>0</td>\n",
       "      <td>0</td>\n",
       "    </tr>\n",
       "    <tr>\n",
       "      <th>1</th>\n",
       "      <td>2018-03-18</td>\n",
       "      <td>628670.85</td>\n",
       "      <td>15301.38</td>\n",
       "      <td>43429.11</td>\n",
       "      <td>3428.09</td>\n",
       "      <td>17.58</td>\n",
       "      <td>1.3</td>\n",
       "      <td>2.3</td>\n",
       "      <td>4527.01</td>\n",
       "      <td>55.39</td>\n",
       "      <td>...</td>\n",
       "      <td>1</td>\n",
       "      <td>0</td>\n",
       "      <td>0</td>\n",
       "      <td>0</td>\n",
       "      <td>0</td>\n",
       "      <td>0</td>\n",
       "      <td>0</td>\n",
       "      <td>0</td>\n",
       "      <td>0</td>\n",
       "      <td>0</td>\n",
       "    </tr>\n",
       "    <tr>\n",
       "      <th>2</th>\n",
       "      <td>2018-03-21</td>\n",
       "      <td>629205.21</td>\n",
       "      <td>15694.09</td>\n",
       "      <td>43429.11</td>\n",
       "      <td>3428.09</td>\n",
       "      <td>17.58</td>\n",
       "      <td>1.3</td>\n",
       "      <td>2.3</td>\n",
       "      <td>4527.01</td>\n",
       "      <td>56.43</td>\n",
       "      <td>...</td>\n",
       "      <td>1</td>\n",
       "      <td>0</td>\n",
       "      <td>0</td>\n",
       "      <td>0</td>\n",
       "      <td>0</td>\n",
       "      <td>0</td>\n",
       "      <td>0</td>\n",
       "      <td>0</td>\n",
       "      <td>0</td>\n",
       "      <td>0</td>\n",
       "    </tr>\n",
       "    <tr>\n",
       "      <th>3</th>\n",
       "      <td>2018-03-24</td>\n",
       "      <td>629594.46</td>\n",
       "      <td>15569.71</td>\n",
       "      <td>43429.11</td>\n",
       "      <td>3428.09</td>\n",
       "      <td>17.58</td>\n",
       "      <td>1.3</td>\n",
       "      <td>2.3</td>\n",
       "      <td>4527.01</td>\n",
       "      <td>53.78</td>\n",
       "      <td>...</td>\n",
       "      <td>1</td>\n",
       "      <td>0</td>\n",
       "      <td>0</td>\n",
       "      <td>0</td>\n",
       "      <td>0</td>\n",
       "      <td>0</td>\n",
       "      <td>0</td>\n",
       "      <td>0</td>\n",
       "      <td>0</td>\n",
       "      <td>0</td>\n",
       "    </tr>\n",
       "    <tr>\n",
       "      <th>4</th>\n",
       "      <td>2018-03-30</td>\n",
       "      <td>629657.80</td>\n",
       "      <td>15423.45</td>\n",
       "      <td>43429.11</td>\n",
       "      <td>3428.09</td>\n",
       "      <td>17.58</td>\n",
       "      <td>1.3</td>\n",
       "      <td>2.3</td>\n",
       "      <td>4527.01</td>\n",
       "      <td>54.63</td>\n",
       "      <td>...</td>\n",
       "      <td>1</td>\n",
       "      <td>0</td>\n",
       "      <td>0</td>\n",
       "      <td>0</td>\n",
       "      <td>0</td>\n",
       "      <td>0</td>\n",
       "      <td>0</td>\n",
       "      <td>0</td>\n",
       "      <td>0</td>\n",
       "      <td>0</td>\n",
       "    </tr>\n",
       "  </tbody>\n",
       "</table>\n",
       "<p>5 rows × 371 columns</p>\n",
       "</div>"
      ],
      "text/plain": [
       "        Date        TRU       DAU     Items    Trans  Items Per Trans  \\\n",
       "0 2018-03-17  628666.24  15301.38  43429.11  3428.09            17.58   \n",
       "1 2018-03-18  628670.85  15301.38  43429.11  3428.09            17.58   \n",
       "2 2018-03-21  629205.21  15694.09  43429.11  3428.09            17.58   \n",
       "3 2018-03-24  629594.46  15569.71  43429.11  3428.09            17.58   \n",
       "4 2018-03-30  629657.80  15423.45  43429.11  3428.09            17.58   \n",
       "\n",
       "   Items per DAU  Conversion  Cash Flow  Return Customer    ...     month_3  \\\n",
       "0            1.3         2.3    4527.01            41.00    ...           1   \n",
       "1            1.3         2.3    4527.01            55.39    ...           1   \n",
       "2            1.3         2.3    4527.01            56.43    ...           1   \n",
       "3            1.3         2.3    4527.01            53.78    ...           1   \n",
       "4            1.3         2.3    4527.01            54.63    ...           1   \n",
       "\n",
       "   month_4  month_5  month_6  month_7  month_8  month_9  month_10  month_11  \\\n",
       "0        0        0        0        0        0        0         0         0   \n",
       "1        0        0        0        0        0        0         0         0   \n",
       "2        0        0        0        0        0        0         0         0   \n",
       "3        0        0        0        0        0        0         0         0   \n",
       "4        0        0        0        0        0        0         0         0   \n",
       "\n",
       "   month_12  \n",
       "0         0  \n",
       "1         0  \n",
       "2         0  \n",
       "3         0  \n",
       "4         0  \n",
       "\n",
       "[5 rows x 371 columns]"
      ]
     },
     "execution_count": 29,
     "metadata": {},
     "output_type": "execute_result"
    }
   ],
   "source": [
    "train.head()"
   ]
  },
  {
   "cell_type": "code",
   "execution_count": 30,
   "metadata": {},
   "outputs": [],
   "source": [
    "val = df_new[df_new['year'] == 2020]\n",
    "val.reset_index(drop = True, inplace = True)\n",
    "Y_val = val[PREDICT_VAR].values.reshape((-1))"
   ]
  },
  {
   "cell_type": "code",
   "execution_count": 31,
   "metadata": {},
   "outputs": [
    {
     "data": {
      "text/html": [
       "<div>\n",
       "<style scoped>\n",
       "    .dataframe tbody tr th:only-of-type {\n",
       "        vertical-align: middle;\n",
       "    }\n",
       "\n",
       "    .dataframe tbody tr th {\n",
       "        vertical-align: top;\n",
       "    }\n",
       "\n",
       "    .dataframe thead th {\n",
       "        text-align: right;\n",
       "    }\n",
       "</style>\n",
       "<table border=\"1\" class=\"dataframe\">\n",
       "  <thead>\n",
       "    <tr style=\"text-align: right;\">\n",
       "      <th></th>\n",
       "      <th>Date</th>\n",
       "      <th>TRU</th>\n",
       "      <th>DAU</th>\n",
       "      <th>Items</th>\n",
       "      <th>Trans</th>\n",
       "      <th>Items Per Trans</th>\n",
       "      <th>Items per DAU</th>\n",
       "      <th>Conversion</th>\n",
       "      <th>Cash Flow</th>\n",
       "      <th>Return Customer</th>\n",
       "      <th>...</th>\n",
       "      <th>month_3</th>\n",
       "      <th>month_4</th>\n",
       "      <th>month_5</th>\n",
       "      <th>month_6</th>\n",
       "      <th>month_7</th>\n",
       "      <th>month_8</th>\n",
       "      <th>month_9</th>\n",
       "      <th>month_10</th>\n",
       "      <th>month_11</th>\n",
       "      <th>month_12</th>\n",
       "    </tr>\n",
       "  </thead>\n",
       "  <tbody>\n",
       "    <tr>\n",
       "      <th>0</th>\n",
       "      <td>2020-01-02</td>\n",
       "      <td>703783.37</td>\n",
       "      <td>16655.71</td>\n",
       "      <td>47555.45</td>\n",
       "      <td>3699.88</td>\n",
       "      <td>35.06</td>\n",
       "      <td>1.35</td>\n",
       "      <td>2.71</td>\n",
       "      <td>4831.05</td>\n",
       "      <td>55.98</td>\n",
       "      <td>...</td>\n",
       "      <td>0</td>\n",
       "      <td>0</td>\n",
       "      <td>0</td>\n",
       "      <td>0</td>\n",
       "      <td>0</td>\n",
       "      <td>0</td>\n",
       "      <td>0</td>\n",
       "      <td>0</td>\n",
       "      <td>0</td>\n",
       "      <td>0</td>\n",
       "    </tr>\n",
       "    <tr>\n",
       "      <th>1</th>\n",
       "      <td>2020-01-03</td>\n",
       "      <td>705077.81</td>\n",
       "      <td>16704.08</td>\n",
       "      <td>47340.09</td>\n",
       "      <td>3625.02</td>\n",
       "      <td>40.45</td>\n",
       "      <td>1.35</td>\n",
       "      <td>2.60</td>\n",
       "      <td>4683.64</td>\n",
       "      <td>53.25</td>\n",
       "      <td>...</td>\n",
       "      <td>0</td>\n",
       "      <td>0</td>\n",
       "      <td>0</td>\n",
       "      <td>0</td>\n",
       "      <td>0</td>\n",
       "      <td>0</td>\n",
       "      <td>0</td>\n",
       "      <td>0</td>\n",
       "      <td>0</td>\n",
       "      <td>0</td>\n",
       "    </tr>\n",
       "    <tr>\n",
       "      <th>2</th>\n",
       "      <td>2020-01-05</td>\n",
       "      <td>703927.32</td>\n",
       "      <td>16576.25</td>\n",
       "      <td>46301.31</td>\n",
       "      <td>3676.85</td>\n",
       "      <td>30.88</td>\n",
       "      <td>1.34</td>\n",
       "      <td>2.68</td>\n",
       "      <td>4705.52</td>\n",
       "      <td>52.18</td>\n",
       "      <td>...</td>\n",
       "      <td>0</td>\n",
       "      <td>0</td>\n",
       "      <td>0</td>\n",
       "      <td>0</td>\n",
       "      <td>0</td>\n",
       "      <td>0</td>\n",
       "      <td>0</td>\n",
       "      <td>0</td>\n",
       "      <td>0</td>\n",
       "      <td>0</td>\n",
       "    </tr>\n",
       "    <tr>\n",
       "      <th>3</th>\n",
       "      <td>2020-01-08</td>\n",
       "      <td>704634.43</td>\n",
       "      <td>16675.29</td>\n",
       "      <td>47321.66</td>\n",
       "      <td>3714.85</td>\n",
       "      <td>33.20</td>\n",
       "      <td>1.35</td>\n",
       "      <td>2.74</td>\n",
       "      <td>4728.55</td>\n",
       "      <td>49.22</td>\n",
       "      <td>...</td>\n",
       "      <td>0</td>\n",
       "      <td>0</td>\n",
       "      <td>0</td>\n",
       "      <td>0</td>\n",
       "      <td>0</td>\n",
       "      <td>0</td>\n",
       "      <td>0</td>\n",
       "      <td>0</td>\n",
       "      <td>0</td>\n",
       "      <td>0</td>\n",
       "    </tr>\n",
       "    <tr>\n",
       "      <th>4</th>\n",
       "      <td>2020-01-09</td>\n",
       "      <td>705417.55</td>\n",
       "      <td>16806.58</td>\n",
       "      <td>50927.46</td>\n",
       "      <td>3968.21</td>\n",
       "      <td>33.56</td>\n",
       "      <td>1.41</td>\n",
       "      <td>3.10</td>\n",
       "      <td>4690.55</td>\n",
       "      <td>51.18</td>\n",
       "      <td>...</td>\n",
       "      <td>0</td>\n",
       "      <td>0</td>\n",
       "      <td>0</td>\n",
       "      <td>0</td>\n",
       "      <td>0</td>\n",
       "      <td>0</td>\n",
       "      <td>0</td>\n",
       "      <td>0</td>\n",
       "      <td>0</td>\n",
       "      <td>0</td>\n",
       "    </tr>\n",
       "  </tbody>\n",
       "</table>\n",
       "<p>5 rows × 371 columns</p>\n",
       "</div>"
      ],
      "text/plain": [
       "        Date        TRU       DAU     Items    Trans  Items Per Trans  \\\n",
       "0 2020-01-02  703783.37  16655.71  47555.45  3699.88            35.06   \n",
       "1 2020-01-03  705077.81  16704.08  47340.09  3625.02            40.45   \n",
       "2 2020-01-05  703927.32  16576.25  46301.31  3676.85            30.88   \n",
       "3 2020-01-08  704634.43  16675.29  47321.66  3714.85            33.20   \n",
       "4 2020-01-09  705417.55  16806.58  50927.46  3968.21            33.56   \n",
       "\n",
       "   Items per DAU  Conversion  Cash Flow  Return Customer    ...     month_3  \\\n",
       "0           1.35        2.71    4831.05            55.98    ...           0   \n",
       "1           1.35        2.60    4683.64            53.25    ...           0   \n",
       "2           1.34        2.68    4705.52            52.18    ...           0   \n",
       "3           1.35        2.74    4728.55            49.22    ...           0   \n",
       "4           1.41        3.10    4690.55            51.18    ...           0   \n",
       "\n",
       "   month_4  month_5  month_6  month_7  month_8  month_9  month_10  month_11  \\\n",
       "0        0        0        0        0        0        0         0         0   \n",
       "1        0        0        0        0        0        0         0         0   \n",
       "2        0        0        0        0        0        0         0         0   \n",
       "3        0        0        0        0        0        0         0         0   \n",
       "4        0        0        0        0        0        0         0         0   \n",
       "\n",
       "   month_12  \n",
       "0         0  \n",
       "1         0  \n",
       "2         0  \n",
       "3         0  \n",
       "4         0  \n",
       "\n",
       "[5 rows x 371 columns]"
      ]
     },
     "execution_count": 31,
     "metadata": {},
     "output_type": "execute_result"
    }
   ],
   "source": [
    "val.head()"
   ]
  },
  {
   "cell_type": "code",
   "execution_count": 32,
   "metadata": {},
   "outputs": [],
   "source": [
    "agg_df = create_agg_monthwise_features(df,gpby_cols=['Country','Platform','month'],target_col=PREDICT_VAR, \n",
    "                                       agg_funcs={'mean':np.mean, 'median':np.median, 'max':np.max, 'min':np.min,\n",
    "                                                  'std':np.std})"
   ]
  },
  {
   "cell_type": "code",
   "execution_count": 33,
   "metadata": {},
   "outputs": [
    {
     "data": {
      "text/html": [
       "<div>\n",
       "<style scoped>\n",
       "    .dataframe tbody tr th:only-of-type {\n",
       "        vertical-align: middle;\n",
       "    }\n",
       "\n",
       "    .dataframe tbody tr th {\n",
       "        vertical-align: top;\n",
       "    }\n",
       "\n",
       "    .dataframe thead th {\n",
       "        text-align: right;\n",
       "    }\n",
       "</style>\n",
       "<table border=\"1\" class=\"dataframe\">\n",
       "  <thead>\n",
       "    <tr style=\"text-align: right;\">\n",
       "      <th></th>\n",
       "      <th>Country</th>\n",
       "      <th>Platform</th>\n",
       "      <th>month</th>\n",
       "      <th>Trans_log_mean</th>\n",
       "      <th>Trans_log_median</th>\n",
       "      <th>Trans_log_max</th>\n",
       "      <th>Trans_log_min</th>\n",
       "      <th>Trans_log_std</th>\n",
       "    </tr>\n",
       "  </thead>\n",
       "  <tbody>\n",
       "    <tr>\n",
       "      <th>0</th>\n",
       "      <td>Afghanistan</td>\n",
       "      <td>ALL</td>\n",
       "      <td>3</td>\n",
       "      <td>8.164740</td>\n",
       "      <td>8.148745</td>\n",
       "      <td>8.315770</td>\n",
       "      <td>8.140050</td>\n",
       "      <td>0.048036</td>\n",
       "    </tr>\n",
       "    <tr>\n",
       "      <th>1</th>\n",
       "      <td>Afghanistan</td>\n",
       "      <td>ALL</td>\n",
       "      <td>4</td>\n",
       "      <td>8.151036</td>\n",
       "      <td>8.154057</td>\n",
       "      <td>8.169178</td>\n",
       "      <td>8.140050</td>\n",
       "      <td>0.008832</td>\n",
       "    </tr>\n",
       "    <tr>\n",
       "      <th>2</th>\n",
       "      <td>Afghanistan</td>\n",
       "      <td>ALL</td>\n",
       "      <td>5</td>\n",
       "      <td>8.155029</td>\n",
       "      <td>8.152234</td>\n",
       "      <td>8.175680</td>\n",
       "      <td>8.141729</td>\n",
       "      <td>0.012201</td>\n",
       "    </tr>\n",
       "    <tr>\n",
       "      <th>3</th>\n",
       "      <td>Afghanistan</td>\n",
       "      <td>ALL</td>\n",
       "      <td>6</td>\n",
       "      <td>8.154532</td>\n",
       "      <td>8.156372</td>\n",
       "      <td>8.170480</td>\n",
       "      <td>8.140386</td>\n",
       "      <td>0.011107</td>\n",
       "    </tr>\n",
       "    <tr>\n",
       "      <th>4</th>\n",
       "      <td>Afghanistan</td>\n",
       "      <td>ALL</td>\n",
       "      <td>7</td>\n",
       "      <td>8.153969</td>\n",
       "      <td>8.143070</td>\n",
       "      <td>8.206946</td>\n",
       "      <td>8.141059</td>\n",
       "      <td>0.018436</td>\n",
       "    </tr>\n",
       "  </tbody>\n",
       "</table>\n",
       "</div>"
      ],
      "text/plain": [
       "       Country Platform  month  Trans_log_mean  Trans_log_median  \\\n",
       "0  Afghanistan      ALL      3        8.164740          8.148745   \n",
       "1  Afghanistan      ALL      4        8.151036          8.154057   \n",
       "2  Afghanistan      ALL      5        8.155029          8.152234   \n",
       "3  Afghanistan      ALL      6        8.154532          8.156372   \n",
       "4  Afghanistan      ALL      7        8.153969          8.143070   \n",
       "\n",
       "   Trans_log_max  Trans_log_min  Trans_log_std  \n",
       "0       8.315770       8.140050       0.048036  \n",
       "1       8.169178       8.140050       0.008832  \n",
       "2       8.175680       8.141729       0.012201  \n",
       "3       8.170480       8.140386       0.011107  \n",
       "4       8.206946       8.141059       0.018436  "
      ]
     },
     "execution_count": 33,
     "metadata": {},
     "output_type": "execute_result"
    }
   ],
   "source": [
    "agg_df.head()"
   ]
  },
  {
   "cell_type": "markdown",
   "metadata": {},
   "source": [
    "Specify Columns the model need to avoid considering. That includes columns, Date, Year, and our prediction variables; that only need to be a part of the target array."
   ]
  },
  {
   "cell_type": "code",
   "execution_count": 34,
   "metadata": {
    "scrolled": true
   },
   "outputs": [
    {
     "name": "stdout",
     "output_type": "stream",
     "text": [
      "No of training features: 367 \n",
      "And they are:['TRU', 'DAU', 'Items', 'Items Per Trans', 'Items per DAU', 'Conversion', 'Cash Flow', 'Return Customer', 'Time Spend Per Day(seconds)', 'dayofmonth', 'dayofyear', 'weekofyear', 'is_month_start', 'is_month_end', 'weekend', 'Trans_log_lag_69', 'Trans_log_lag_76', 'Trans_log_lag_83', 'Trans_log_lag_91', 'Trans_log_lag_98', 'Trans_log_lag_105', 'Trans_log_lag_112', 'Trans_log_lag_119', 'Trans_log_lag_126', 'Trans_log_lag_182', 'Trans_log_lag_364', 'Trans_log_lag_546', 'Trans_log_lag_728', 'Trans_log_rmean_364', 'Trans_log_rmean_546', 'Trans_log_lag_69_ewm_0.95', 'Trans_log_lag_76_ewm_0.95', 'Trans_log_lag_83_ewm_0.95', 'Trans_log_lag_91_ewm_0.95', 'Trans_log_lag_98_ewm_0.95', 'Trans_log_lag_105_ewm_0.95', 'Trans_log_lag_112_ewm_0.95', 'Trans_log_lag_119_ewm_0.95', 'Trans_log_lag_126_ewm_0.95', 'Trans_log_lag_182_ewm_0.95', 'Trans_log_lag_364_ewm_0.95', 'Trans_log_lag_546_ewm_0.95', 'Trans_log_lag_728_ewm_0.95', 'Trans_log_lag_69_ewm_0.9', 'Trans_log_lag_76_ewm_0.9', 'Trans_log_lag_83_ewm_0.9', 'Trans_log_lag_91_ewm_0.9', 'Trans_log_lag_98_ewm_0.9', 'Trans_log_lag_105_ewm_0.9', 'Trans_log_lag_112_ewm_0.9', 'Trans_log_lag_119_ewm_0.9', 'Trans_log_lag_126_ewm_0.9', 'Trans_log_lag_182_ewm_0.9', 'Trans_log_lag_364_ewm_0.9', 'Trans_log_lag_546_ewm_0.9', 'Trans_log_lag_728_ewm_0.9', 'Trans_log_lag_69_ewm_0.8', 'Trans_log_lag_76_ewm_0.8', 'Trans_log_lag_83_ewm_0.8', 'Trans_log_lag_91_ewm_0.8', 'Trans_log_lag_98_ewm_0.8', 'Trans_log_lag_105_ewm_0.8', 'Trans_log_lag_112_ewm_0.8', 'Trans_log_lag_119_ewm_0.8', 'Trans_log_lag_126_ewm_0.8', 'Trans_log_lag_182_ewm_0.8', 'Trans_log_lag_364_ewm_0.8', 'Trans_log_lag_546_ewm_0.8', 'Trans_log_lag_728_ewm_0.8', 'Trans_log_lag_69_ewm_0.7', 'Trans_log_lag_76_ewm_0.7', 'Trans_log_lag_83_ewm_0.7', 'Trans_log_lag_91_ewm_0.7', 'Trans_log_lag_98_ewm_0.7', 'Trans_log_lag_105_ewm_0.7', 'Trans_log_lag_112_ewm_0.7', 'Trans_log_lag_119_ewm_0.7', 'Trans_log_lag_126_ewm_0.7', 'Trans_log_lag_182_ewm_0.7', 'Trans_log_lag_364_ewm_0.7', 'Trans_log_lag_546_ewm_0.7', 'Trans_log_lag_728_ewm_0.7', 'Trans_log_lag_69_ewm_0.6', 'Trans_log_lag_76_ewm_0.6', 'Trans_log_lag_83_ewm_0.6', 'Trans_log_lag_91_ewm_0.6', 'Trans_log_lag_98_ewm_0.6', 'Trans_log_lag_105_ewm_0.6', 'Trans_log_lag_112_ewm_0.6', 'Trans_log_lag_119_ewm_0.6', 'Trans_log_lag_126_ewm_0.6', 'Trans_log_lag_182_ewm_0.6', 'Trans_log_lag_364_ewm_0.6', 'Trans_log_lag_546_ewm_0.6', 'Trans_log_lag_728_ewm_0.6', 'Trans_log_lag_69_ewm_0.5', 'Trans_log_lag_76_ewm_0.5', 'Trans_log_lag_83_ewm_0.5', 'Trans_log_lag_91_ewm_0.5', 'Trans_log_lag_98_ewm_0.5', 'Trans_log_lag_105_ewm_0.5', 'Trans_log_lag_112_ewm_0.5', 'Trans_log_lag_119_ewm_0.5', 'Trans_log_lag_126_ewm_0.5', 'Trans_log_lag_182_ewm_0.5', 'Trans_log_lag_364_ewm_0.5', 'Trans_log_lag_546_ewm_0.5', 'Trans_log_lag_728_ewm_0.5', 'Country_Afghanistan', 'Country_Albania', 'Country_Algeria', 'Country_Andorra', 'Country_Angola', 'Country_Anguilla', 'Country_Antigua and Barbuda', 'Country_Argentina', 'Country_Armenia', 'Country_Aruba', 'Country_Australia', 'Country_Austria', 'Country_Azerbaijan', 'Country_Bahamas', 'Country_Bahrain', 'Country_Barbados', 'Country_Belarus', 'Country_Belgium', 'Country_Belize', 'Country_Bengal', 'Country_Benin', 'Country_Bermuda', 'Country_Bhutan', 'Country_Bolivia', 'Country_Bosnia and Herzegovina', 'Country_Botswana', 'Country_Brazil', 'Country_Brunei', 'Country_Bulgaria', 'Country_Burkina Faso', 'Country_Burundi', 'Country_Cambodia', 'Country_Cameroon', 'Country_Canada', 'Country_Cape Verde', 'Country_Cayman Islands', 'Country_Central Africa', 'Country_Chad', 'Country_Chile', 'Country_China', 'Country_Colombia', 'Country_Congo', 'Country_Cook Islands', 'Country_Costa Rica', 'Country_Cote dIvoire', 'Country_Croatia', 'Country_Cuba', 'Country_Curacao', 'Country_Cyprus', 'Country_Czech', 'Country_Denmark', 'Country_Djibouti', 'Country_Dominica', 'Country_Dutch Caribbean', 'Country_EU', 'Country_East Timor', 'Country_Ecuador', 'Country_Egypt', 'Country_El Salvador', 'Country_Equatorial Guinea', 'Country_Estonia', 'Country_Ethiopia', 'Country_Faroe Islands', 'Country_Federated States of Micronesia', 'Country_Fiji Islands', 'Country_Finland', 'Country_France', 'Country_French Guiana', 'Country_French Polynesia', 'Country_Gabon', 'Country_Gambia', 'Country_Georgia', 'Country_Germany', 'Country_Ghana', 'Country_Gibraltar', 'Country_Greece', 'Country_Greenland', 'Country_Grenada', 'Country_Guadeloupe', 'Country_Guam', 'Country_Guatemala', 'Country_Guinea', 'Country_Guinea-Bissau', 'Country_Guyana', 'Country_Haiti', 'Country_Honduras', 'Country_Hong Kong', 'Country_Hungary', 'Country_Iceland', 'Country_India', 'Country_Indonesia', 'Country_Iran', 'Country_Iraq', 'Country_Ireland', 'Country_Isle of Man', 'Country_Israel', 'Country_Italy', 'Country_Jamaica', 'Country_Japan', 'Country_Jersey', 'Country_Jordan', 'Country_Kazakhstan', 'Country_Kenya', 'Country_Korea', 'Country_Kuwait', 'Country_Kyrgyzstan', 'Country_Laos', 'Country_Latvia', 'Country_Lebanon', 'Country_Lesotho', 'Country_Liberia', 'Country_Libya', 'Country_Liechtenstein', 'Country_Lithuania', 'Country_Luxembourg', 'Country_Macao', 'Country_Macedonia', 'Country_Madagascar', 'Country_Malawi', 'Country_Malaysia', 'Country_Maldives', 'Country_Mali', 'Country_Malta', 'Country_Marshall Islands', 'Country_Martinique', 'Country_Mauritania', 'Country_Mauritius', 'Country_Mexico', 'Country_Moldova', 'Country_Monaco', 'Country_Mongolia', 'Country_Montenegro', 'Country_Morocco', 'Country_Mozambique', 'Country_Myanmar', 'Country_Namibia', 'Country_Nauru', 'Country_Nepal', 'Country_Netherlands', 'Country_New Caledonia', 'Country_Nicaragua', 'Country_Niger', 'Country_Nigeria', 'Country_Niue', 'Country_Northern Mariana Islands', 'Country_Norway', 'Country_Oman', 'Country_Pakistan', 'Country_Palau', 'Country_Palestine', 'Country_Panama', 'Country_Papua New Guinea', 'Country_Paraguay', 'Country_Peru', 'Country_Philippines', 'Country_Poland', 'Country_Portugal', 'Country_Puerto Rico', 'Country_Qatar', 'Country_Reunion', 'Country_Romania', 'Country_Russia', 'Country_Rwanda', 'Country_Saint Kitts and Nevis', 'Country_Saint Martin', 'Country_Saint Pierre and Miquelon', 'Country_Saint Vincent and the Grenadines', 'Country_San Marino', 'Country_Sao Tome and Principe', 'Country_Saudi Arabia', 'Country_Senegal', 'Country_Serbia', 'Country_Seychelles', 'Country_Sierra Leone', 'Country_Singapore', 'Country_Sint Maarten', 'Country_Slovakia', 'Country_Slovenia', 'Country_Solomon Islands', 'Country_Somalia', 'Country_South Africa', 'Country_South Sudan', 'Country_Spain', 'Country_Sri Lanka', 'Country_Sudan', 'Country_Surinam', 'Country_Swaziland', 'Country_Sweden', 'Country_Switzerland', 'Country_Syria', 'Country_Taiwan', 'Country_Tajikistan', 'Country_Tanzania', 'Country_Thailand', 'Country_Togo', 'Country_Tonga', 'Country_Trinidad and Tobago', 'Country_Tunisia', 'Country_Turkey', 'Country_Turkmenistan', 'Country_Turks and Caicos Islands', 'Country_Uganda', 'Country_Ukraine', 'Country_United Arab Emirates', 'Country_United Kingdom', 'Country_United States', 'Country_United States Virgin Islands', 'Country_Uruguay', 'Country_Uzbekistan', 'Country_Vatican', 'Country_Venezuela', 'Country_Vietnam', 'Country_Yemen', 'Country_Zambia', 'Country_Zimbabwe', 'Country_chinese_name_0', 'Country_chinese_name_1', 'Country_chinese_name_10', 'Country_chinese_name_11', 'Country_chinese_name_12', 'Country_chinese_name_13', 'Country_chinese_name_14', 'Country_chinese_name_15', 'Country_chinese_name_16', 'Country_chinese_name_17', 'Country_chinese_name_18', 'Country_chinese_name_2', 'Country_chinese_name_3', 'Country_chinese_name_4', 'Country_chinese_name_5', 'Country_chinese_name_6', 'Country_chinese_name_7', 'Country_chinese_name_8', 'Country_chinese_name_9', 'Country_new Zealand', 'Country_other', 'Country_unknown', 'Platform_ALL', 'Platform_Android(All)', 'Platform_IOS(All)', 'dayofweek_0', 'dayofweek_1', 'dayofweek_2', 'dayofweek_3', 'dayofweek_4', 'dayofweek_5', 'dayofweek_6', 'month_1', 'month_2', 'month_3', 'month_4', 'month_5', 'month_6', 'month_7', 'month_8', 'month_9', 'month_10', 'month_11', 'month_12']\n"
     ]
    }
   ],
   "source": [
    "avoid_cols = ['Date', PREDICT_VAR, VAR, 'year']\n",
    "cols = [col for col in train.columns if col not in avoid_cols]\n",
    "print('No of training features: {} \\nAnd they are:{}'.format(len(cols), cols))"
   ]
  },
  {
   "cell_type": "markdown",
   "metadata": {},
   "source": [
    "We intend to build a Light Gradient Boosted Model (Light GBM), that uses a Gradient Boosted Learning framework, for Decision Trees, and is quite quick. We use Symmentric Mean Absolute Prediction Error (SMAPE), that is commonly used when working with Times series data.\n",
    "\n",
    "$SMAPE = \\frac{200}{n} \\sum_{i=1}^{n} \\frac{|F_t - A_t|}{|F_t| + |A_t|}$\n",
    "\n",
    "Where $F_t$ is the forecasted point, and $A_t$ is the Actual point. Here, $n$ corresponds to the number of fitted points. Below, we define functions to calculate the SMAPE for the Light GBM model."
   ]
  },
  {
   "cell_type": "code",
   "execution_count": 35,
   "metadata": {},
   "outputs": [],
   "source": [
    "def SMAPE(preds, target):\n",
    "\n",
    "    n = len(preds)\n",
    "    masked_arr = ~((preds==0)&(target==0))\n",
    "    preds, target = preds[masked_arr], target[masked_arr]\n",
    "    num = np.abs(preds-target)\n",
    "    denom = np.abs(preds)+np.abs(target)\n",
    "    smape_val = (200*np.sum(num/denom))/n\n",
    "    return smape_val\n",
    "\n",
    "def LGBM_SMAPE(preds, train_data):\n",
    "\n",
    "    labels = train_data.get_label()\n",
    "    smape_val = SMAPE(np.expm1(preds), np.expm1(labels))\n",
    "    return 'SMAPE', smape_val, False"
   ]
  },
  {
   "cell_type": "code",
   "execution_count": 36,
   "metadata": {},
   "outputs": [],
   "source": [
    "lgb_params = {'task':'train', 'boosting_type':'gbdt', 'objective':'regression', \n",
    "              'metric': {'mae'}, 'num_leaves': 10, 'learning_rate': 0.02, \n",
    "              'feature_fraction': 0.8, 'max_depth': 5, 'verbose': 0, \n",
    "              'num_boost_round':15000, 'early_stopping_rounds':200, 'nthread':-1}"
   ]
  },
  {
   "cell_type": "code",
   "execution_count": 37,
   "metadata": {},
   "outputs": [],
   "source": [
    "lgbtrain = lgb.Dataset(data=train.loc[:,cols].values, label=Y_train, \n",
    "                       feature_name=cols)\n",
    "lgbval = lgb.Dataset(data=val.loc[:,cols].values, label=Y_val, \n",
    "                     reference=lgbtrain, feature_name=cols)"
   ]
  },
  {
   "cell_type": "code",
   "execution_count": 40,
   "metadata": {},
   "outputs": [],
   "source": [
    "def lgb_validation(params, lgbtrain, lgbval, X_val, Y_val, verbose_eval):\n",
    "    t0 = time.time()\n",
    "    evals_result = {}\n",
    "    model = lgb.train(params, lgbtrain, num_boost_round=params['num_boost_round'], \n",
    "                      valid_sets=[lgbtrain, lgbval], feval=LGBM_SMAPE, \n",
    "                      early_stopping_rounds=params['early_stopping_rounds'], \n",
    "                      evals_result=evals_result, verbose_eval=verbose_eval)\n",
    "    print(model.best_iteration)\n",
    "    print('Total time taken to build the model: ', (time.time()-t0)/60, 'minutes!!')\n",
    "    pred_Y_val = model.predict(X_val, num_iteration=model.best_iteration)\n",
    "    pred_Y_val = np.expm1(pred_Y_val)\n",
    "    Y_val = np.expm1(Y_val)\n",
    "    val_df = pd.DataFrame(columns=['true_Y_val','pred_Y_val'])\n",
    "    val_df['pred_Y_val'] = pred_Y_val\n",
    "    val_df['true_Y_val'] = Y_val\n",
    "    print(val_df.shape)\n",
    "    print(val_df.sample(5))\n",
    "    print('SMAPE for validation data is:{}'.format(SMAPE(pred_Y_val, Y_val)))\n",
    "    return model, val_df"
   ]
  },
  {
   "cell_type": "code",
   "execution_count": 41,
   "metadata": {},
   "outputs": [
    {
     "name": "stderr",
     "output_type": "stream",
     "text": [
      "C:\\ProgramData\\Anaconda3\\lib\\site-packages\\lightgbm\\engine.py:148: UserWarning: Found `num_boost_round` in params. Will use it instead of argument\n",
      "  warnings.warn(\"Found `{}` in params. Will use it instead of argument\".format(alias))\n",
      "C:\\ProgramData\\Anaconda3\\lib\\site-packages\\lightgbm\\engine.py:153: UserWarning: Found `early_stopping_rounds` in params. Will use it instead of argument\n",
      "  warnings.warn(\"Found `{}` in params. Will use it instead of argument\".format(alias))\n"
     ]
    },
    {
     "name": "stdout",
     "output_type": "stream",
     "text": [
      "Training until validation scores don't improve for 200 rounds\n",
      "[500]\ttraining's l1: 0.00326635\ttraining's SMAPE: 0.32656\tvalid_1's l1: 0.00646918\tvalid_1's SMAPE: 0.642565\n",
      "[1000]\ttraining's l1: 0.00253432\ttraining's SMAPE: 0.253434\tvalid_1's l1: 0.00552973\tvalid_1's SMAPE: 0.549984\n",
      "[1500]\ttraining's l1: 0.00226585\ttraining's SMAPE: 0.226602\tvalid_1's l1: 0.00523743\tvalid_1's SMAPE: 0.520918\n",
      "[2000]\ttraining's l1: 0.00206754\ttraining's SMAPE: 0.206778\tvalid_1's l1: 0.00501338\tvalid_1's SMAPE: 0.49868\n",
      "[2500]\ttraining's l1: 0.0019039\ttraining's SMAPE: 0.190415\tvalid_1's l1: 0.00482741\tvalid_1's SMAPE: 0.48019\n",
      "[3000]\ttraining's l1: 0.00177984\ttraining's SMAPE: 0.17801\tvalid_1's l1: 0.00470862\tvalid_1's SMAPE: 0.468365\n",
      "[3500]\ttraining's l1: 0.00167211\ttraining's SMAPE: 0.167237\tvalid_1's l1: 0.00459741\tvalid_1's SMAPE: 0.457283\n",
      "[4000]\ttraining's l1: 0.00158973\ttraining's SMAPE: 0.158999\tvalid_1's l1: 0.00451897\tvalid_1's SMAPE: 0.449472\n",
      "[4500]\ttraining's l1: 0.00152099\ttraining's SMAPE: 0.152125\tvalid_1's l1: 0.00444938\tvalid_1's SMAPE: 0.442534\n",
      "[5000]\ttraining's l1: 0.00146274\ttraining's SMAPE: 0.1463\tvalid_1's l1: 0.00439497\tvalid_1's SMAPE: 0.437105\n",
      "[5500]\ttraining's l1: 0.00140691\ttraining's SMAPE: 0.140716\tvalid_1's l1: 0.00434387\tvalid_1's SMAPE: 0.432002\n",
      "[6000]\ttraining's l1: 0.00136131\ttraining's SMAPE: 0.136155\tvalid_1's l1: 0.00430772\tvalid_1's SMAPE: 0.428388\n",
      "[6500]\ttraining's l1: 0.00132279\ttraining's SMAPE: 0.132303\tvalid_1's l1: 0.00428301\tvalid_1's SMAPE: 0.425926\n",
      "[7000]\ttraining's l1: 0.00128101\ttraining's SMAPE: 0.128125\tvalid_1's l1: 0.00424777\tvalid_1's SMAPE: 0.42241\n",
      "[7500]\ttraining's l1: 0.00124228\ttraining's SMAPE: 0.124252\tvalid_1's l1: 0.00421957\tvalid_1's SMAPE: 0.419597\n",
      "[8000]\ttraining's l1: 0.00120929\ttraining's SMAPE: 0.120952\tvalid_1's l1: 0.00419693\tvalid_1's SMAPE: 0.417334\n",
      "[8500]\ttraining's l1: 0.0011742\ttraining's SMAPE: 0.117443\tvalid_1's l1: 0.00416687\tvalid_1's SMAPE: 0.414329\n",
      "[9000]\ttraining's l1: 0.00114003\ttraining's SMAPE: 0.114025\tvalid_1's l1: 0.00413784\tvalid_1's SMAPE: 0.411425\n",
      "[9500]\ttraining's l1: 0.00110347\ttraining's SMAPE: 0.110369\tvalid_1's l1: 0.00410409\tvalid_1's SMAPE: 0.408053\n",
      "[10000]\ttraining's l1: 0.00106737\ttraining's SMAPE: 0.106759\tvalid_1's l1: 0.00406792\tvalid_1's SMAPE: 0.404437\n",
      "[10500]\ttraining's l1: 0.00104065\ttraining's SMAPE: 0.104086\tvalid_1's l1: 0.00404734\tvalid_1's SMAPE: 0.402384\n",
      "[11000]\ttraining's l1: 0.00101497\ttraining's SMAPE: 0.101517\tvalid_1's l1: 0.00402669\tvalid_1's SMAPE: 0.400321\n",
      "[11500]\ttraining's l1: 0.00099123\ttraining's SMAPE: 0.0991431\tvalid_1's l1: 0.00400957\tvalid_1's SMAPE: 0.39861\n",
      "[12000]\ttraining's l1: 0.000967792\ttraining's SMAPE: 0.0967989\tvalid_1's l1: 0.00399373\tvalid_1's SMAPE: 0.39703\n",
      "[12500]\ttraining's l1: 0.00094737\ttraining's SMAPE: 0.0947564\tvalid_1's l1: 0.00398071\tvalid_1's SMAPE: 0.39573\n",
      "[13000]\ttraining's l1: 0.000926484\ttraining's SMAPE: 0.0926675\tvalid_1's l1: 0.00396318\tvalid_1's SMAPE: 0.393984\n",
      "[13500]\ttraining's l1: 0.000907416\ttraining's SMAPE: 0.0907604\tvalid_1's l1: 0.00395288\tvalid_1's SMAPE: 0.392956\n",
      "[14000]\ttraining's l1: 0.000887383\ttraining's SMAPE: 0.0887567\tvalid_1's l1: 0.0039349\tvalid_1's SMAPE: 0.391162\n",
      "[14500]\ttraining's l1: 0.000871101\ttraining's SMAPE: 0.0871283\tvalid_1's l1: 0.00392457\tvalid_1's SMAPE: 0.390127\n",
      "[15000]\ttraining's l1: 0.000855122\ttraining's SMAPE: 0.0855301\tvalid_1's l1: 0.00391667\tvalid_1's SMAPE: 0.389336\n",
      "Did not meet early stopping. Best iteration is:\n",
      "[15000]\ttraining's l1: 0.000855122\ttraining's SMAPE: 0.0855301\tvalid_1's l1: 0.00391667\tvalid_1's SMAPE: 0.389336\n",
      "15000\n",
      "Total time taken to build the model:  9.01447952191035 minutes!!\n",
      "(16185, 2)\n",
      "       true_Y_val   pred_Y_val\n",
      "15993     3428.09  3427.920064\n",
      "14509     3507.56  3514.206536\n",
      "12261     3430.40  3430.943273\n",
      "10236     4655.74  4693.515540\n",
      "5076      3539.80  3532.187803\n",
      "SMAPE for validation data is:0.38933990419305065\n"
     ]
    }
   ],
   "source": [
    "model, val_df = lgb_validation(lgb_params, lgbtrain, lgbval, val.loc[:,cols].values, \n",
    "                               Y_val, verbose_eval=500)"
   ]
  },
  {
   "cell_type": "code",
   "execution_count": 49,
   "metadata": {},
   "outputs": [
    {
     "data": {
      "image/png": "[encoded data removed]",
      "text/plain": [
       "<Figure size 432x288 with 1 Axes>"
      ]
     },
     "metadata": {
      "needs_background": "light"
     },
     "output_type": "display_data"
    }
   ],
   "source": [
    "plt.plot(val_df['true_Y_val'], label = 'true')\n",
    "plt.plot(val_df['pred_Y_val'], label = 'predicted')\n",
    "plt.legend(loc = 'best')\n",
    "plt.ylabel(VAR)\n",
    "plt.show()"
   ]
  },
  {
   "cell_type": "markdown",
   "metadata": {},
   "source": [
    "We see that the model is able to correctly predict the treds in the validation data, across all countries, platforms, and dates. Now, we look at one country, 'United States' and compare the performance of our model, against the true validation values."
   ]
  },
  {
   "cell_type": "code",
   "execution_count": 47,
   "metadata": {},
   "outputs": [],
   "source": [
    "val_timeframe = df[(df['year'] == 2020)].reset_index()\n",
    "del val_timeframe['index']"
   ]
  },
  {
   "cell_type": "code",
   "execution_count": 48,
   "metadata": {},
   "outputs": [
    {
     "data": {
      "text/html": [
       "<div>\n",
       "<style scoped>\n",
       "    .dataframe tbody tr th:only-of-type {\n",
       "        vertical-align: middle;\n",
       "    }\n",
       "\n",
       "    .dataframe tbody tr th {\n",
       "        vertical-align: top;\n",
       "    }\n",
       "\n",
       "    .dataframe thead th {\n",
       "        text-align: right;\n",
       "    }\n",
       "</style>\n",
       "<table border=\"1\" class=\"dataframe\">\n",
       "  <thead>\n",
       "    <tr style=\"text-align: right;\">\n",
       "      <th></th>\n",
       "      <th>Date</th>\n",
       "      <th>Platform</th>\n",
       "      <th>Country</th>\n",
       "      <th>TRU</th>\n",
       "      <th>DAU</th>\n",
       "      <th>Items</th>\n",
       "      <th>Trans</th>\n",
       "      <th>Items Per Trans</th>\n",
       "      <th>Items per DAU</th>\n",
       "      <th>Conversion</th>\n",
       "      <th>...</th>\n",
       "      <th>dayofmonth</th>\n",
       "      <th>dayofyear</th>\n",
       "      <th>dayofweek</th>\n",
       "      <th>month</th>\n",
       "      <th>year</th>\n",
       "      <th>weekofyear</th>\n",
       "      <th>is_month_start</th>\n",
       "      <th>is_month_end</th>\n",
       "      <th>weekend</th>\n",
       "      <th>Trans_log</th>\n",
       "    </tr>\n",
       "  </thead>\n",
       "  <tbody>\n",
       "    <tr>\n",
       "      <th>0</th>\n",
       "      <td>2020-01-02</td>\n",
       "      <td>ALL</td>\n",
       "      <td>Afghanistan</td>\n",
       "      <td>703783.37</td>\n",
       "      <td>16655.71</td>\n",
       "      <td>47555.45</td>\n",
       "      <td>3699.88</td>\n",
       "      <td>35.06</td>\n",
       "      <td>1.35</td>\n",
       "      <td>2.71</td>\n",
       "      <td>...</td>\n",
       "      <td>2</td>\n",
       "      <td>2</td>\n",
       "      <td>3</td>\n",
       "      <td>1</td>\n",
       "      <td>2020</td>\n",
       "      <td>1</td>\n",
       "      <td>0</td>\n",
       "      <td>0</td>\n",
       "      <td>0</td>\n",
       "      <td>8.216326</td>\n",
       "    </tr>\n",
       "    <tr>\n",
       "      <th>1</th>\n",
       "      <td>2020-01-03</td>\n",
       "      <td>ALL</td>\n",
       "      <td>Afghanistan</td>\n",
       "      <td>705077.81</td>\n",
       "      <td>16704.08</td>\n",
       "      <td>47340.09</td>\n",
       "      <td>3625.02</td>\n",
       "      <td>40.45</td>\n",
       "      <td>1.35</td>\n",
       "      <td>2.60</td>\n",
       "      <td>...</td>\n",
       "      <td>3</td>\n",
       "      <td>3</td>\n",
       "      <td>4</td>\n",
       "      <td>1</td>\n",
       "      <td>2020</td>\n",
       "      <td>1</td>\n",
       "      <td>0</td>\n",
       "      <td>0</td>\n",
       "      <td>0</td>\n",
       "      <td>8.195891</td>\n",
       "    </tr>\n",
       "    <tr>\n",
       "      <th>2</th>\n",
       "      <td>2020-01-05</td>\n",
       "      <td>ALL</td>\n",
       "      <td>Afghanistan</td>\n",
       "      <td>703927.32</td>\n",
       "      <td>16576.25</td>\n",
       "      <td>46301.31</td>\n",
       "      <td>3676.85</td>\n",
       "      <td>30.88</td>\n",
       "      <td>1.34</td>\n",
       "      <td>2.68</td>\n",
       "      <td>...</td>\n",
       "      <td>5</td>\n",
       "      <td>5</td>\n",
       "      <td>6</td>\n",
       "      <td>1</td>\n",
       "      <td>2020</td>\n",
       "      <td>1</td>\n",
       "      <td>0</td>\n",
       "      <td>0</td>\n",
       "      <td>1</td>\n",
       "      <td>8.210084</td>\n",
       "    </tr>\n",
       "    <tr>\n",
       "      <th>3</th>\n",
       "      <td>2020-01-08</td>\n",
       "      <td>ALL</td>\n",
       "      <td>Afghanistan</td>\n",
       "      <td>704634.43</td>\n",
       "      <td>16675.29</td>\n",
       "      <td>47321.66</td>\n",
       "      <td>3714.85</td>\n",
       "      <td>33.20</td>\n",
       "      <td>1.35</td>\n",
       "      <td>2.74</td>\n",
       "      <td>...</td>\n",
       "      <td>8</td>\n",
       "      <td>8</td>\n",
       "      <td>2</td>\n",
       "      <td>1</td>\n",
       "      <td>2020</td>\n",
       "      <td>2</td>\n",
       "      <td>0</td>\n",
       "      <td>0</td>\n",
       "      <td>0</td>\n",
       "      <td>8.220363</td>\n",
       "    </tr>\n",
       "    <tr>\n",
       "      <th>4</th>\n",
       "      <td>2020-01-09</td>\n",
       "      <td>ALL</td>\n",
       "      <td>Afghanistan</td>\n",
       "      <td>705417.55</td>\n",
       "      <td>16806.58</td>\n",
       "      <td>50927.46</td>\n",
       "      <td>3968.21</td>\n",
       "      <td>33.56</td>\n",
       "      <td>1.41</td>\n",
       "      <td>3.10</td>\n",
       "      <td>...</td>\n",
       "      <td>9</td>\n",
       "      <td>9</td>\n",
       "      <td>3</td>\n",
       "      <td>1</td>\n",
       "      <td>2020</td>\n",
       "      <td>2</td>\n",
       "      <td>0</td>\n",
       "      <td>0</td>\n",
       "      <td>0</td>\n",
       "      <td>8.286322</td>\n",
       "    </tr>\n",
       "  </tbody>\n",
       "</table>\n",
       "<p>5 rows × 23 columns</p>\n",
       "</div>"
      ],
      "text/plain": [
       "        Date Platform      Country        TRU       DAU     Items    Trans  \\\n",
       "0 2020-01-02      ALL  Afghanistan  703783.37  16655.71  47555.45  3699.88   \n",
       "1 2020-01-03      ALL  Afghanistan  705077.81  16704.08  47340.09  3625.02   \n",
       "2 2020-01-05      ALL  Afghanistan  703927.32  16576.25  46301.31  3676.85   \n",
       "3 2020-01-08      ALL  Afghanistan  704634.43  16675.29  47321.66  3714.85   \n",
       "4 2020-01-09      ALL  Afghanistan  705417.55  16806.58  50927.46  3968.21   \n",
       "\n",
       "   Items Per Trans  Items per DAU  Conversion    ...      dayofmonth  \\\n",
       "0            35.06           1.35        2.71    ...               2   \n",
       "1            40.45           1.35        2.60    ...               3   \n",
       "2            30.88           1.34        2.68    ...               5   \n",
       "3            33.20           1.35        2.74    ...               8   \n",
       "4            33.56           1.41        3.10    ...               9   \n",
       "\n",
       "   dayofyear  dayofweek  month  year  weekofyear  is_month_start  \\\n",
       "0          2          3      1  2020           1               0   \n",
       "1          3          4      1  2020           1               0   \n",
       "2          5          6      1  2020           1               0   \n",
       "3          8          2      1  2020           2               0   \n",
       "4          9          3      1  2020           2               0   \n",
       "\n",
       "   is_month_end  weekend  Trans_log  \n",
       "0             0        0   8.216326  \n",
       "1             0        0   8.195891  \n",
       "2             0        1   8.210084  \n",
       "3             0        0   8.220363  \n",
       "4             0        0   8.286322  \n",
       "\n",
       "[5 rows x 23 columns]"
      ]
     },
     "execution_count": 48,
     "metadata": {},
     "output_type": "execute_result"
    }
   ],
   "source": [
    "val_timeframe.head()"
   ]
  },
  {
   "cell_type": "code",
   "execution_count": 53,
   "metadata": {},
   "outputs": [
    {
     "data": {
      "image/png": "[encoded data removed]",
      "text/plain": [
       "<Figure size 432x288 with 1 Axes>"
      ]
     },
     "metadata": {
      "needs_background": "light"
     },
     "output_type": "display_data"
    }
   ],
   "source": [
    "idx = val_timeframe[(val_timeframe['Country'] == 'United States') & (val_timeframe['Platform'] == 'ALL')]['Trans'].index\n",
    "plt.plot(val_df.loc[idx,'true_Y_val'], label = 'true')\n",
    "plt.plot(val_df.loc[idx,'pred_Y_val'], label = 'predicted')\n",
    "plt.xlabel('Dates')\n",
    "plt.ylabel(VAR)\n",
    "plt.title('Country: United States, Platform: ALL')\n",
    "plt.legend(loc = 'best')\n",
    "plt.show()"
   ]
  },
  {
   "cell_type": "code",
   "execution_count": 57,
   "metadata": {},
   "outputs": [
    {
     "data": {
      "image/png": "[encoded data removed]",
      "text/plain": [
       "<Figure size 432x288 with 1 Axes>"
      ]
     },
     "metadata": {
      "needs_background": "light"
     },
     "output_type": "display_data"
    }
   ],
   "source": [
    "idx = val_timeframe[(val_timeframe['Country'] == 'United States') & (val_timeframe['Platform'] == 'Android(All)')]\\\n",
    "['Trans'].index\n",
    "plt.plot(val_df.loc[idx,'true_Y_val'], label = 'true')\n",
    "plt.plot(val_df.loc[idx,'pred_Y_val'], label = 'predicted')\n",
    "plt.xlabel('Dates')\n",
    "plt.ylabel(VAR)\n",
    "plt.title('Country: United States, Platform: Android')\n",
    "plt.legend(loc = 'best')\n",
    "plt.show()"
   ]
  },
  {
   "cell_type": "code",
   "execution_count": 56,
   "metadata": {},
   "outputs": [
    {
     "data": {
      "image/png": "[encoded data removed]",
      "text/plain": [
       "<Figure size 432x288 with 1 Axes>"
      ]
     },
     "metadata": {
      "needs_background": "light"
     },
     "output_type": "display_data"
    }
   ],
   "source": [
    "idx = val_timeframe[(val_timeframe['Country'] == 'United States') & (val_timeframe['Platform'] == 'IOS(All)')]\\\n",
    "['Trans'].index\n",
    "plt.plot(val_df.loc[idx,'true_Y_val'], label = 'true')\n",
    "plt.plot(val_df.loc[idx,'pred_Y_val'], label = 'predicted')\n",
    "plt.xlabel('Dates')\n",
    "plt.ylabel(VAR)\n",
    "plt.title('Country: United States, Platform: IOS')\n",
    "plt.legend(loc = 'best')\n",
    "plt.show()"
   ]
  },
  {
   "cell_type": "markdown",
   "metadata": {},
   "source": [
    "The Low SMAPE score of 0.389, and the plots, prove that our model is well trained, and is able to successfully predict the values of the target variables."
   ]
  },
  {
   "cell_type": "markdown",
   "metadata": {},
   "source": [
    "### Feature Importance"
   ]
  },
  {
   "cell_type": "markdown",
   "metadata": {},
   "source": [
    "Looking at the top 10 features, that are most important in predicting the target variable, we observe that"
   ]
  },
  {
   "cell_type": "code",
   "execution_count": 65,
   "metadata": {},
   "outputs": [
    {
     "name": "stdout",
     "output_type": "stream",
     "text": [
      "Features importance...\n",
      "Top 10 features:\n",
      "                      feature  split       gain\n",
      "2                      Items  15341  71.589069\n",
      "0                        TRU   8911  11.586365\n",
      "3            Items_Per_Trans  13016   7.089127\n",
      "6                  Cash_Flow   8045   6.919396\n",
      "5                 Conversion   9794   2.135389\n",
      "95  Trans_log_lag_69_ewm_0.5    796   0.165567\n",
      "1                        DAU   4598   0.160236\n",
      "82  Trans_log_lag_69_ewm_0.6    505   0.116744\n",
      "4              Items_per_DAU   3120   0.062458\n",
      "16          Trans_log_lag_76   2942   0.040694\n"
     ]
    }
   ],
   "source": [
    "print(\"Features importance...\")\n",
    "gain = model.feature_importance('gain')\n",
    "feat_imp = pd.DataFrame({'feature':model.feature_name(), \n",
    "                         'split':model.feature_importance('split'), \n",
    "                         'gain':100 * gain / gain.sum()}).sort_values('gain', ascending=False)\n",
    "print('Top 10 features:\\n', feat_imp.head(10))"
   ]
  },
  {
   "cell_type": "markdown",
   "metadata": {},
   "source": [
    "We see that, the initially provided features are the most important in predicting the target variable. It is suprising that the lag features, are not really important in making predictions. After looking at the data, we see that the data is not exactly seasonal, and is mostly characterized by the trend of initial growth, followed by a plateau. So, it makes sense that the initially provided features are more important in capturing the behaviour of the prediction variable."
   ]
  },
  {
   "cell_type": "code",
   "execution_count": 63,
   "metadata": {},
   "outputs": [
    {
     "data": {
      "image/png": "[encoded data removed]",
      "text/plain": [
       "<Figure size 432x288 with 1 Axes>"
      ]
     },
     "metadata": {
      "needs_background": "light"
     },
     "output_type": "display_data"
    }
   ],
   "source": [
    "temp_log = df[(df['Country'] == 'United States') & (df['Platform'] == 'ALL')][PREDICT_VAR]\n",
    "plt.plot(temp_log)\n",
    "plt.xlabel('Days')\n",
    "plt.ylabel('Trans (log)')\n",
    "plt.title('Country: United States, Platform: ALL')\n",
    "plt.show()"
   ]
  },
  {
   "cell_type": "code",
   "execution_count": 60,
   "metadata": {},
   "outputs": [
    {
     "data": {
      "image/png": "[encoded data removed]",
      "text/plain": [
       "<Figure size 432x288 with 1 Axes>"
      ]
     },
     "metadata": {
      "needs_background": "light"
     },
     "output_type": "display_data"
    }
   ],
   "source": [
    "temp_log = df[(df['Country'] == 'India') & (df['Platform'] == 'ALL')][PREDICT_VAR]\n",
    "plt.plot(temp_log)\n",
    "plt.xlabel('Days')\n",
    "plt.ylabel('Trans (log)')\n",
    "plt.title('Country: India, Platform: ALL')\n",
    "plt.show()"
   ]
  },
  {
   "cell_type": "code",
   "execution_count": 64,
   "metadata": {},
   "outputs": [
    {
     "data": {
      "image/png": "[encoded data removed]",
      "text/plain": [
       "<Figure size 432x288 with 1 Axes>"
      ]
     },
     "metadata": {
      "needs_background": "light"
     },
     "output_type": "display_data"
    }
   ],
   "source": [
    "temp_log = df[(df['Country'] == 'China') & (df['Platform'] == 'ALL')][PREDICT_VAR]\n",
    "plt.plot(temp_log)\n",
    "plt.xlabel('Days')\n",
    "plt.ylabel('Trans (log)')\n",
    "plt.title('Country: China, Platform: ALL')\n",
    "plt.show()"
   ]
  }
 ],
 "metadata": {
  "kernelspec": {
   "display_name": "Python 3",
   "language": "python",
   "name": "python3"
  },
  "language_info": {
   "codemirror_mode": {
    "name": "ipython",
    "version": 3
   },
   "file_extension": ".py",
   "mimetype": "text/x-python",
   "name": "python",
   "nbconvert_exporter": "python",
   "pygments_lexer": "ipython3",
   "version": "3.7.1"
  }
 },
 "nbformat": 4,
 "nbformat_minor": 2
}
